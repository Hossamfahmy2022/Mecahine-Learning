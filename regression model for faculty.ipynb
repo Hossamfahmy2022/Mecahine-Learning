{
 "cells": [
  {
   "cell_type": "markdown",
   "id": "d37df838",
   "metadata": {},
   "source": [
    "### import libraries "
   ]
  },
  {
   "cell_type": "code",
   "execution_count": 29,
   "id": "10c06ade",
   "metadata": {},
   "outputs": [],
   "source": [
    "import numpy as np\n",
    "import pandas as pd\n",
    "import matplotlib.pyplot as plt\n",
    "import seaborn as sns"
   ]
  },
  {
   "cell_type": "markdown",
   "id": "fc0a3787",
   "metadata": {},
   "source": [
    "### read the data"
   ]
  },
  {
   "cell_type": "code",
   "execution_count": 30,
   "id": "911b9b6b",
   "metadata": {},
   "outputs": [],
   "source": [
    "data = pd.read_csv(r\"D:\\Study\\4 faculty\\first term\\Machine Learning\\regression_data.csv\", header=None, names=['X', 'Y'])"
   ]
  },
  {
   "cell_type": "markdown",
   "id": "7469a26b",
   "metadata": {},
   "source": [
    "## Data exploration"
   ]
  },
  {
   "cell_type": "code",
   "execution_count": 31,
   "id": "c9f8063c",
   "metadata": {},
   "outputs": [
    {
     "data": {
      "text/html": [
       "<div>\n",
       "<style scoped>\n",
       "    .dataframe tbody tr th:only-of-type {\n",
       "        vertical-align: middle;\n",
       "    }\n",
       "\n",
       "    .dataframe tbody tr th {\n",
       "        vertical-align: top;\n",
       "    }\n",
       "\n",
       "    .dataframe thead th {\n",
       "        text-align: right;\n",
       "    }\n",
       "</style>\n",
       "<table border=\"1\" class=\"dataframe\">\n",
       "  <thead>\n",
       "    <tr style=\"text-align: right;\">\n",
       "      <th></th>\n",
       "      <th>X</th>\n",
       "      <th>Y</th>\n",
       "    </tr>\n",
       "  </thead>\n",
       "  <tbody>\n",
       "    <tr>\n",
       "      <th>0</th>\n",
       "      <td>6.1101</td>\n",
       "      <td>17.5920</td>\n",
       "    </tr>\n",
       "    <tr>\n",
       "      <th>1</th>\n",
       "      <td>5.5277</td>\n",
       "      <td>9.1302</td>\n",
       "    </tr>\n",
       "    <tr>\n",
       "      <th>2</th>\n",
       "      <td>8.5186</td>\n",
       "      <td>13.6620</td>\n",
       "    </tr>\n",
       "    <tr>\n",
       "      <th>3</th>\n",
       "      <td>7.0032</td>\n",
       "      <td>11.8540</td>\n",
       "    </tr>\n",
       "    <tr>\n",
       "      <th>4</th>\n",
       "      <td>5.8598</td>\n",
       "      <td>6.8233</td>\n",
       "    </tr>\n",
       "  </tbody>\n",
       "</table>\n",
       "</div>"
      ],
      "text/plain": [
       "        X        Y\n",
       "0  6.1101  17.5920\n",
       "1  5.5277   9.1302\n",
       "2  8.5186  13.6620\n",
       "3  7.0032  11.8540\n",
       "4  5.8598   6.8233"
      ]
     },
     "execution_count": 31,
     "metadata": {},
     "output_type": "execute_result"
    }
   ],
   "source": [
    "data.head()"
   ]
  },
  {
   "cell_type": "code",
   "execution_count": 32,
   "id": "8448d40c",
   "metadata": {},
   "outputs": [
    {
     "name": "stdout",
     "output_type": "stream",
     "text": [
      "<class 'pandas.core.frame.DataFrame'>\n",
      "RangeIndex: 97 entries, 0 to 96\n",
      "Data columns (total 2 columns):\n",
      " #   Column  Non-Null Count  Dtype  \n",
      "---  ------  --------------  -----  \n",
      " 0   X       97 non-null     float64\n",
      " 1   Y       97 non-null     float64\n",
      "dtypes: float64(2)\n",
      "memory usage: 1.6 KB\n"
     ]
    }
   ],
   "source": [
    "data.info() # show data types of data "
   ]
  },
  {
   "cell_type": "code",
   "execution_count": 33,
   "id": "95bf6737",
   "metadata": {},
   "outputs": [
    {
     "data": {
      "text/html": [
       "<div>\n",
       "<style scoped>\n",
       "    .dataframe tbody tr th:only-of-type {\n",
       "        vertical-align: middle;\n",
       "    }\n",
       "\n",
       "    .dataframe tbody tr th {\n",
       "        vertical-align: top;\n",
       "    }\n",
       "\n",
       "    .dataframe thead th {\n",
       "        text-align: right;\n",
       "    }\n",
       "</style>\n",
       "<table border=\"1\" class=\"dataframe\">\n",
       "  <thead>\n",
       "    <tr style=\"text-align: right;\">\n",
       "      <th></th>\n",
       "      <th>X</th>\n",
       "      <th>Y</th>\n",
       "    </tr>\n",
       "  </thead>\n",
       "  <tbody>\n",
       "    <tr>\n",
       "      <th>count</th>\n",
       "      <td>97.000000</td>\n",
       "      <td>97.000000</td>\n",
       "    </tr>\n",
       "    <tr>\n",
       "      <th>mean</th>\n",
       "      <td>8.159800</td>\n",
       "      <td>5.839135</td>\n",
       "    </tr>\n",
       "    <tr>\n",
       "      <th>std</th>\n",
       "      <td>3.869884</td>\n",
       "      <td>5.510262</td>\n",
       "    </tr>\n",
       "    <tr>\n",
       "      <th>min</th>\n",
       "      <td>5.026900</td>\n",
       "      <td>-2.680700</td>\n",
       "    </tr>\n",
       "    <tr>\n",
       "      <th>25%</th>\n",
       "      <td>5.707700</td>\n",
       "      <td>1.986900</td>\n",
       "    </tr>\n",
       "    <tr>\n",
       "      <th>50%</th>\n",
       "      <td>6.589400</td>\n",
       "      <td>4.562300</td>\n",
       "    </tr>\n",
       "    <tr>\n",
       "      <th>75%</th>\n",
       "      <td>8.578100</td>\n",
       "      <td>7.046700</td>\n",
       "    </tr>\n",
       "    <tr>\n",
       "      <th>max</th>\n",
       "      <td>22.203000</td>\n",
       "      <td>24.147000</td>\n",
       "    </tr>\n",
       "  </tbody>\n",
       "</table>\n",
       "</div>"
      ],
      "text/plain": [
       "               X          Y\n",
       "count  97.000000  97.000000\n",
       "mean    8.159800   5.839135\n",
       "std     3.869884   5.510262\n",
       "min     5.026900  -2.680700\n",
       "25%     5.707700   1.986900\n",
       "50%     6.589400   4.562300\n",
       "75%     8.578100   7.046700\n",
       "max    22.203000  24.147000"
      ]
     },
     "execution_count": 33,
     "metadata": {},
     "output_type": "execute_result"
    }
   ],
   "source": [
    "data.describe() #show some statics values "
   ]
  },
  {
   "cell_type": "code",
   "execution_count": 34,
   "id": "cd42ba16",
   "metadata": {},
   "outputs": [
    {
     "data": {
      "text/plain": [
       "<AxesSubplot:xlabel='X', ylabel='Y'>"
      ]
     },
     "execution_count": 34,
     "metadata": {},
     "output_type": "execute_result"
    },
    {
     "data": {
      "image/png": "[encoded data removed]",
      "text/plain": [
       "<Figure size 432x288 with 1 Axes>"
      ]
     },
     "metadata": {
      "needs_background": "light"
     },
     "output_type": "display_data"
    }
   ],
   "source": [
    "#show data\n",
    "sns.scatterplot(data=data, x='X', y='Y',hue='Y')"
   ]
  },
  {
   "cell_type": "code",
   "execution_count": 7,
   "id": "f3a11b50",
   "metadata": {},
   "outputs": [
    {
     "data": {
      "text/plain": [
       "<AxesSubplot:xlabel='Y', ylabel='Count'>"
      ]
     },
     "execution_count": 7,
     "metadata": {},
     "output_type": "execute_result"
    },
    {
     "data": {
      "image/png": "[encoded data removed]",
      "text/plain": [
       "<Figure size 720x720 with 1 Axes>"
      ]
     },
     "metadata": {
      "needs_background": "light"
     },
     "output_type": "display_data"
    }
   ],
   "source": [
    "plt.figure(figsize=(10,10))\n",
    "sns.histplot(data[\"Y\"])"
   ]
  },
  {
   "cell_type": "code",
   "execution_count": 35,
   "id": "6cb6e588",
   "metadata": {},
   "outputs": [
    {
     "name": "stdout",
     "output_type": "stream",
     "text": [
      "<class 'pandas.core.frame.DataFrame'>\n",
      "RangeIndex: 97 entries, 0 to 96\n",
      "Data columns (total 2 columns):\n",
      " #   Column  Non-Null Count  Dtype  \n",
      "---  ------  --------------  -----  \n",
      " 0   X       97 non-null     float64\n",
      " 1   Y       97 non-null     float64\n",
      "dtypes: float64(2)\n",
      "memory usage: 1.6 KB\n"
     ]
    }
   ],
   "source": [
    "data.info()"
   ]
  },
  {
   "cell_type": "code",
   "execution_count": 36,
   "id": "eee2ab9e",
   "metadata": {},
   "outputs": [
    {
     "data": {
      "text/plain": [
       "(97, 2)"
      ]
     },
     "execution_count": 36,
     "metadata": {},
     "output_type": "execute_result"
    }
   ],
   "source": [
    "data.shape"
   ]
  },
  {
   "cell_type": "markdown",
   "id": "8da1af0f",
   "metadata": {},
   "source": [
    "## operations on data"
   ]
  },
  {
   "cell_type": "code",
   "execution_count": 37,
   "id": "86a4685e",
   "metadata": {},
   "outputs": [],
   "source": [
    "# adding a new column called X0 at column zero\n",
    "data.insert(0, 'X0', 1) # base column\n"
   ]
  },
  {
   "cell_type": "code",
   "execution_count": 38,
   "id": "182711dd",
   "metadata": {},
   "outputs": [
    {
     "data": {
      "text/plain": [
       "(97, 3)"
      ]
     },
     "execution_count": 38,
     "metadata": {},
     "output_type": "execute_result"
    }
   ],
   "source": [
    "data.shape"
   ]
  },
  {
   "cell_type": "code",
   "execution_count": 39,
   "id": "c168cd56",
   "metadata": {},
   "outputs": [],
   "source": [
    "features = data.shape[1] # (97, 3) ->> features=3\n",
    "X = data.iloc[:,0:features-1] # all rows , columns from 0 to (3-1) ->>2 but 2 is not included ={0,1}\n",
    "y = data.iloc[:,features-1:features] # all rows , columns from (3-1) ->>2 to features{3} but 3 is not included = {2}"
   ]
  },
  {
   "cell_type": "code",
   "execution_count": 40,
   "id": "f52397b1",
   "metadata": {},
   "outputs": [],
   "source": [
    "# convert matrices\n",
    "X = np.matrix(X.values)\n",
    "y = np.matrix(y.values)\n",
    "theta = np.matrix(np.array([0,0])) #initialize the theta with zeros"
   ]
  },
  {
   "cell_type": "markdown",
   "id": "780ea103",
   "metadata": {},
   "source": [
    "## cost function"
   ]
  },
  {
   "cell_type": "code",
   "execution_count": 41,
   "id": "01b68923",
   "metadata": {},
   "outputs": [],
   "source": [
    "# j(theta)=1/2*number_of_samples *sum(x*thata_transpose->(Y_hat(predicted output)) - y(real output))**2)\n",
    "number_of_samples=data.shape[0]\n",
    "def computeCost(X, y, theta):\n",
    "    return np.sum(np.power(((X * theta.T) - y), 2))/number_of_samples"
   ]
  },
  {
   "cell_type": "code",
   "execution_count": 42,
   "id": "e813c434",
   "metadata": {},
   "outputs": [],
   "source": [
    "# GD function\n",
    "def gradientDescent(X, y, theta, alpha, iters):\n",
    "    temp = np.matrix(np.zeros(theta.shape)) # (1*2) ->> temp is matrix (1*2) of zeros\n",
    "    parameters = int(theta.ravel().shape[1]) # pramaters ->> 2\n",
    "    cost = np.zeros(iters) # 1500 value of zeros\n",
    "    theta_temp = np.zeros(epochs)\n",
    "    theta_temp2 = np.zeros(epochs) #store old theta\n",
    "    # theta_j=theta_j - alpha*1/number_of_samples*sum(x*thata_transpose->(Y_hat(predicted output)) - y(real output)) *x_j\n",
    "    for i in range(iters):\n",
    "        error = (X * theta.T) - y # error ->> (x*thata_transpose->(Y_hat(predicted output)) - y(real output))\n",
    "        \n",
    "        for j in range(parameters):\n",
    "            term = np.multiply(error, X[:,j]) ## error * values of pramter\n",
    "            temp[0,j] = theta[0,j] - ((alpha / len(X)) * np.sum(term)) # update theta\n",
    "            theta_temp[i] =temp[0,0]\n",
    "            theta_temp2[i] =temp[0,1]\n",
    "        theta = temp\n",
    "        cost[i] = computeCost(X, y, theta)\n",
    "        \n",
    "    return theta, cost,theta_temp,theta_temp2\n"
   ]
  },
  {
   "cell_type": "code",
   "execution_count": 43,
   "id": "6bbe57f3",
   "metadata": {},
   "outputs": [],
   "source": [
    "alpha = 0.01  #learing rate\n",
    "epochs = 1500 #number of iterations"
   ]
  },
  {
   "cell_type": "code",
   "execution_count": 44,
   "id": "ca6e129e",
   "metadata": {},
   "outputs": [
    {
     "name": "stdout",
     "output_type": "stream",
     "text": [
      "theta =  [[-3.63029144  1.16636235]]\n",
      "cost  =  [13.47438093 11.86318714 11.80230941 11.79045717 11.78018989 11.77000832\n",
      " 11.75986496 11.74975819 11.73968782 11.72965373 11.71965578 11.70969384\n",
      " 11.69976778 11.68987748 11.6800228  11.67020362 11.6604198  11.65067123\n",
      " 11.64095777 11.6312793  11.62163569 11.61202681 11.60245254 11.59291276\n",
      " 11.58340735 11.57393617 11.5644991  11.55509603 11.54572682 11.53639137\n",
      " 11.52708954 11.51782121 11.50858627 11.49938459 11.49021606 11.48108055\n",
      " 11.47197794 11.46290812 11.45387098 11.44486638 11.43589421 11.42695437\n",
      " 11.41804672 11.40917116 11.40032757 11.39151584 11.38273584 11.37398747\n",
      " 11.3652706  11.35658514]\n",
      "computeCost =  8.966776513175452\n",
      "**************************************\n"
     ]
    }
   ],
   "source": [
    "theta, cost,thetas1,thetas2 = gradientDescent(X, y, theta, alpha, epochs)\n",
    "\n",
    "print('theta = ' , theta)\n",
    "print('cost  = ' , cost[0:50] )\n",
    "print('computeCost = ' , computeCost(X, y, theta))\n",
    "print('**************************************')"
   ]
  },
  {
   "cell_type": "code",
   "execution_count": 45,
   "id": "5856a921",
   "metadata": {},
   "outputs": [],
   "source": [
    "x = np.linspace(data.X.min(), data.X.max(), 100)\n",
    "f = theta[0, 0] + (theta[0, 1] * x) # h(x)= x0+x1 * theta 1 "
   ]
  },
  {
   "cell_type": "code",
   "execution_count": 46,
   "id": "0e4e8952",
   "metadata": {},
   "outputs": [
    {
     "data": {
      "text/plain": [
       "Text(0.5, 1.0, 'X vs. Y')"
      ]
     },
     "execution_count": 46,
     "metadata": {},
     "output_type": "execute_result"
    },
    {
     "data": {
      "image/png": "[encoded data removed]",
      "text/plain": [
       "<Figure size 360x360 with 1 Axes>"
      ]
     },
     "metadata": {
      "needs_background": "light"
     },
     "output_type": "display_data"
    }
   ],
   "source": [
    "fig, ax = plt.subplots(figsize=(5,5))\n",
    "ax.plot(x, f, 'r', label='Prediction')\n",
    "ax.scatter(data.X, data.Y, label='Traning Data')\n",
    "ax.legend(loc=2)\n",
    "ax.set_xlabel('X')\n",
    "ax.set_ylabel('Y')\n",
    "ax.set_title('X vs. Y')\n"
   ]
  },
  {
   "cell_type": "code",
   "execution_count": 47,
   "id": "973c4788",
   "metadata": {},
   "outputs": [
    {
     "name": "stdout",
     "output_type": "stream",
     "text": [
      "the predicted output = [[0.45197679]]\n"
     ]
    },
    {
     "data": {
      "image/png": "[encoded data removed]",
      "text/plain": [
       "<Figure size 432x288 with 1 Axes>"
      ]
     },
     "metadata": {
      "needs_background": "light"
     },
     "output_type": "display_data"
    }
   ],
   "source": [
    "# draw error graph\n",
    "fig = plt.figure()\n",
    "\n",
    "ax = plt.axes(projection ='3d')\n",
    "ax.plot3D(thetas1,thetas2, cost, 'r')\n",
    "ax.set_xlabel('first thetas')\n",
    "ax.set_ylabel('second thetas')\n",
    "ax.set_zlabel('Error')\n",
    "ax.set_title('Error vs. thetas')\n",
    "\n",
    "print(\"the predicted output =\",np.array([1,3.5])*theta.T)"
   ]
  },
  {
   "cell_type": "code",
   "execution_count": null,
   "id": "f4a72e46",
   "metadata": {},
   "outputs": [],
   "source": []
  }
 ],
 "metadata": {
  "kernelspec": {
   "display_name": "Python 3",
   "language": "python",
   "name": "python3"
  },
  "language_info": {
   "codemirror_mode": {
    "name": "ipython",
    "version": 3
   },
   "file_extension": ".py",
   "mimetype": "text/x-python",
   "name": "python",
   "nbconvert_exporter": "python",
   "pygments_lexer": "ipython3",
   "version": "3.8.8"
  }
 },
 "nbformat": 4,
 "nbformat_minor": 5
}
